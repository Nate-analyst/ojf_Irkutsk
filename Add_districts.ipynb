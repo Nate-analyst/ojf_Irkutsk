{
 "cells": [
  {
   "cell_type": "code",
   "execution_count": 2,
   "metadata": {},
   "outputs": [],
   "source": [
    "import pandas as pd\n",
    "import json"
   ]
  },
  {
   "cell_type": "code",
   "execution_count": 18,
   "metadata": {},
   "outputs": [
    {
     "data": {
      "text/html": [
       "<div>\n",
       "<style scoped>\n",
       "    .dataframe tbody tr th:only-of-type {\n",
       "        vertical-align: middle;\n",
       "    }\n",
       "\n",
       "    .dataframe tbody tr th {\n",
       "        vertical-align: top;\n",
       "    }\n",
       "\n",
       "    .dataframe thead th {\n",
       "        text-align: right;\n",
       "    }\n",
       "</style>\n",
       "<table border=\"1\" class=\"dataframe\">\n",
       "  <thead>\n",
       "    <tr style=\"text-align: right;\">\n",
       "      <th></th>\n",
       "      <th>Адрес ОЖФ</th>\n",
       "      <th>Улица</th>\n",
       "      <th>Способ управления</th>\n",
       "      <th>Наименование организации, осуществляющей управление домом</th>\n",
       "      <th>Тип дома</th>\n",
       "      <th>Состояние</th>\n",
       "      <th>Общая площадь дома</th>\n",
       "    </tr>\n",
       "  </thead>\n",
       "  <tbody>\n",
       "    <tr>\n",
       "      <th>0</th>\n",
       "      <td>664001, Иркутская обл, г. Иркутск, ул. Баррика...</td>\n",
       "      <td>ул. Баррикад</td>\n",
       "      <td>Непосредственное управление</td>\n",
       "      <td>NaN</td>\n",
       "      <td>Многоквартирный</td>\n",
       "      <td>Аварийный</td>\n",
       "      <td>0.0</td>\n",
       "    </tr>\n",
       "    <tr>\n",
       "      <th>1</th>\n",
       "      <td>664001, Иркутская обл, г. Иркутск, ул. Радищев...</td>\n",
       "      <td>ул. Радищева</td>\n",
       "      <td>УО</td>\n",
       "      <td>АКЦИОНЕРНОЕ ОБЩЕСТВО \"ВОСТОЧНОЕ УПРАВЛЕНИЕ ЖИЛ...</td>\n",
       "      <td>Многоквартирный</td>\n",
       "      <td>Аварийный</td>\n",
       "      <td>658.1</td>\n",
       "    </tr>\n",
       "    <tr>\n",
       "      <th>2</th>\n",
       "      <td>664001, Иркутская обл, г. Иркутск, ул. Радищев...</td>\n",
       "      <td>ул. Радищева</td>\n",
       "      <td>УО</td>\n",
       "      <td>АКЦИОНЕРНОЕ ОБЩЕСТВО \"ВОСТОЧНОЕ УПРАВЛЕНИЕ ЖИЛ...</td>\n",
       "      <td>Многоквартирный</td>\n",
       "      <td>Аварийный</td>\n",
       "      <td>657.9</td>\n",
       "    </tr>\n",
       "    <tr>\n",
       "      <th>3</th>\n",
       "      <td>664002, Иркутская обл, г. Иркутск, пер. 1-й Ле...</td>\n",
       "      <td>пер. 1-й Ленинградский</td>\n",
       "      <td>Не выбран</td>\n",
       "      <td>NaN</td>\n",
       "      <td>Жилой</td>\n",
       "      <td>NaN</td>\n",
       "      <td>49.6</td>\n",
       "    </tr>\n",
       "    <tr>\n",
       "      <th>4</th>\n",
       "      <td>664002, Иркутская обл, г. Иркутск, пер. 1-й Ле...</td>\n",
       "      <td>пер. 1-й Ленинградский</td>\n",
       "      <td>Не выбран</td>\n",
       "      <td>NaN</td>\n",
       "      <td>Жилой</td>\n",
       "      <td>NaN</td>\n",
       "      <td>64.3</td>\n",
       "    </tr>\n",
       "  </tbody>\n",
       "</table>\n",
       "</div>"
      ],
      "text/plain": [
       "                                           Адрес ОЖФ                    Улица  \\\n",
       "0  664001, Иркутская обл, г. Иркутск, ул. Баррика...             ул. Баррикад   \n",
       "1  664001, Иркутская обл, г. Иркутск, ул. Радищев...             ул. Радищева   \n",
       "2  664001, Иркутская обл, г. Иркутск, ул. Радищев...             ул. Радищева   \n",
       "3  664002, Иркутская обл, г. Иркутск, пер. 1-й Ле...   пер. 1-й Ленинградский   \n",
       "4  664002, Иркутская обл, г. Иркутск, пер. 1-й Ле...   пер. 1-й Ленинградский   \n",
       "\n",
       "             Способ управления  \\\n",
       "0  Непосредственное управление   \n",
       "1                           УО   \n",
       "2                           УО   \n",
       "3                    Не выбран   \n",
       "4                    Не выбран   \n",
       "\n",
       "  Наименование организации, осуществляющей управление домом         Тип дома  \\\n",
       "0                                                NaN         Многоквартирный   \n",
       "1  АКЦИОНЕРНОЕ ОБЩЕСТВО \"ВОСТОЧНОЕ УПРАВЛЕНИЕ ЖИЛ...         Многоквартирный   \n",
       "2  АКЦИОНЕРНОЕ ОБЩЕСТВО \"ВОСТОЧНОЕ УПРАВЛЕНИЕ ЖИЛ...         Многоквартирный   \n",
       "3                                                NaN                   Жилой   \n",
       "4                                                NaN                   Жилой   \n",
       "\n",
       "   Состояние  Общая площадь дома  \n",
       "0  Аварийный                 0.0  \n",
       "1  Аварийный               658.1  \n",
       "2  Аварийный               657.9  \n",
       "3        NaN                49.6  \n",
       "4        NaN                64.3  "
      ]
     },
     "execution_count": 18,
     "metadata": {},
     "output_type": "execute_result"
    }
   ],
   "source": [
    "data = pd.read_excel('Иркутск ОЖФ.xlsx')\n",
    "data.head()"
   ]
  },
  {
   "cell_type": "code",
   "execution_count": 4,
   "metadata": {},
   "outputs": [],
   "source": [
    "with open('streets.json', 'r', encoding='utf-8') as f:\n",
    "    districts = json.load(f)\n"
   ]
  },
  {
   "cell_type": "code",
   "execution_count": 19,
   "metadata": {},
   "outputs": [],
   "source": [
    "def match_value(value):\n",
    "    value = value.strip().lower() \n",
    "    for key, dict_value in districts.items():\n",
    "        if isinstance(dict_value, list):\n",
    "            for item in dict_value:\n",
    "                if isinstance(item, str):\n",
    "                    item_cleaned = item.strip().lower()\n",
    "                    if value == item_cleaned:\n",
    "                        return key\n",
    "        elif isinstance(dict_value, str):\n",
    "            dict_value_cleaned = dict_value.strip().lower()\n",
    "            if value == dict_value_cleaned:\n",
    "                return key\n",
    "    return None\n",
    "\n",
    "data['Район'] = data['Улица'].apply(match_value)"
   ]
  },
  {
   "cell_type": "code",
   "execution_count": 20,
   "metadata": {},
   "outputs": [
    {
     "name": "stdout",
     "output_type": "stream",
     "text": [
      "<class 'pandas.core.series.Series'>\n",
      "RangeIndex: 25678 entries, 0 to 25677\n",
      "Series name: Район\n",
      "Non-Null Count  Dtype \n",
      "--------------  ----- \n",
      "25678 non-null  object\n",
      "dtypes: object(1)\n",
      "memory usage: 200.7+ KB\n"
     ]
    }
   ],
   "source": [
    "data['Район'].info()"
   ]
  },
  {
   "cell_type": "code",
   "execution_count": 21,
   "metadata": {},
   "outputs": [],
   "source": [
    "data.to_excel('Иркутск ОЖФ финал.xlsx', index=False)"
   ]
  }
 ],
 "metadata": {
  "kernelspec": {
   "display_name": "base",
   "language": "python",
   "name": "python3"
  },
  "language_info": {
   "codemirror_mode": {
    "name": "ipython",
    "version": 3
   },
   "file_extension": ".py",
   "mimetype": "text/x-python",
   "name": "python",
   "nbconvert_exporter": "python",
   "pygments_lexer": "ipython3",
   "version": "3.10.9"
  }
 },
 "nbformat": 4,
 "nbformat_minor": 2
}
